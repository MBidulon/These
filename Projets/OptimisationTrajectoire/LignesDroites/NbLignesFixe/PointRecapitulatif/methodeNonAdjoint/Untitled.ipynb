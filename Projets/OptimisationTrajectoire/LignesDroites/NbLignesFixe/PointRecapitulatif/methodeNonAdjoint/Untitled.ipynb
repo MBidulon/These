{
 "cells": [
  {
   "cell_type": "code",
   "execution_count": 1,
   "metadata": {
    "collapsed": true
   },
   "outputs": [],
   "source": [
    "## loading python libraries\n",
    "\n",
    "# necessary to display plots inline:\n",
    "%matplotlib inline   \n",
    "\n",
    "# load the libraries\n",
    "import matplotlib.pyplot as plt # 2D plotting library\n",
    "import numpy as np              # package for scientific computing  \n",
    "\n",
    "from math import *              # package for mathematics (pi, arctan, sqrt, factorial ...)"
   ]
  },
  {
   "cell_type": "code",
   "execution_count": 47,
   "metadata": {
    "collapsed": false
   },
   "outputs": [
    {
     "data": {
      "image/png": "[encoded data removed]",
      "text/plain": [
       "<matplotlib.figure.Figure at 0x1280db668>"
      ]
     },
     "metadata": {},
     "output_type": "display_data"
    }
   ],
   "source": [
    "x=np.linspace(0,2,50)\n",
    "y=np.ones(x.size)\n",
    "\n",
    "fig = plt.figure(figsize = (15,5))\n",
    "\n",
    "plt.plot(x,0*y, color='blue')\n",
    "plt.plot(x,1*y, color='blue')\n",
    "plt.plot(0*y,x/2, color='blue')\n",
    "plt.plot(2*y,x/2, color='blue')\n",
    "plt.plot(2/3*y,3*DeltaL/2*x, '.',color='green')\n",
    "\n",
    "DeltaL=0.3\n",
    "plt.plot(x,0*y,'--', color='red')\n",
    "plt.plot(x,DeltaL*y,'--', color='red')\n",
    "plt.plot(x,2*DeltaL*y,'--', color='red')\n",
    "plt.plot(x/3,3*DeltaL*y,'--', color='red')\n",
    "\n",
    "plt.annotate(r'$\\Delta_L$', xy=(5/4,2*DeltaL), xytext=(5/4, 0.85*DeltaL), fontsize=16,arrowprops={'facecolor':'black', 'shrink':1} )\n",
    "plt.annotate(r'$\\Delta_L$', xy=(7/4,DeltaL), xytext=(7/4, -0.05), fontsize=16,arrowprops={'facecolor':'black', 'shrink':0.05} )\n",
    "plt.annotate(r'$\\Delta_L$', xy=(1/4,3*DeltaL), xytext=(1/4, 0.90*2*DeltaL), fontsize=16,arrowprops={'facecolor':'black', 'shrink':0.05} )\n",
    "\n",
    "\n",
    "plt.annotate(r'$\\tilde{s}$',xy=(2/3,3*DeltaL),xytext=(2/3,1.1), fontsize=16,arrowprops=dict(arrowstyle=\"->\", connectionstyle=\"arc3,rad=.2\"))\n",
    "             \n",
    "plt.axis('off')\n",
    "\n",
    "plt.show()"
   ]
  },
  {
   "cell_type": "code",
   "execution_count": 3,
   "metadata": {
    "collapsed": false
   },
   "outputs": [
    {
     "data": {
      "text/plain": [
       "<matplotlib.text.Text at 0x117e72748>"
      ]
     },
     "execution_count": 3,
     "metadata": {},
     "output_type": "execute_result"
    },
    {
     "data": {
      "image/png": "[encoded data removed]",
      "text/plain": [
       "<matplotlib.figure.Figure at 0x117c90d68>"
      ]
     },
     "metadata": {},
     "output_type": "display_data"
    }
   ],
   "source": [
    "plt.grid(True)\n",
    "plt.plot([50,100,150,200], [2,3,7,10], \"b\", linewidth=0.8, marker=\"*\")\n",
    "plt.plot([50,100,150,200], [2,7,9,10], \"g\", linewidth=0.8, marker=\"+\")\n",
    "plt.axis([80, 180, 1, 10])\n",
    "plt.annotate('Limite', xy=(100, 7), xytext=(119, 5.5), \n",
    "arrowprops={'facecolor':'black', 'shrink':0.05} )\n",
    "plt.xlabel('Vitesse')\n",
    "plt.ylabel('Temps')"
   ]
  },
  {
   "cell_type": "code",
   "execution_count": 4,
   "metadata": {
    "collapsed": false
   },
   "outputs": [
    {
     "ename": "NameError",
     "evalue": "name 'sineWave' is not defined",
     "output_type": "error",
     "traceback": [
      "\u001b[0;31m---------------------------------------------------------------------------\u001b[0m",
      "\u001b[0;31mNameError\u001b[0m                                 Traceback (most recent call last)",
      "\u001b[0;32m<ipython-input-4-dc4fb045fb22>\u001b[0m in \u001b[0;36m<module>\u001b[0;34m()\u001b[0m\n\u001b[1;32m     15\u001b[0m \u001b[0;34m\u001b[0m\u001b[0m\n\u001b[1;32m     16\u001b[0m \u001b[0mplt\u001b[0m\u001b[0;34m.\u001b[0m\u001b[0msubplot\u001b[0m\u001b[0;34m(\u001b[0m\u001b[0;36m1\u001b[0m\u001b[0;34m,\u001b[0m\u001b[0;36m2\u001b[0m\u001b[0;34m,\u001b[0m\u001b[0;36m1\u001b[0m\u001b[0;34m)\u001b[0m\u001b[0;34m\u001b[0m\u001b[0m\n\u001b[0;32m---> 17\u001b[0;31m \u001b[0mf\u001b[0m \u001b[0;34m=\u001b[0m \u001b[0msineWave\u001b[0m\u001b[0;34m\u001b[0m\u001b[0m\n\u001b[0m\u001b[1;32m     18\u001b[0m \u001b[0;31m# y = [f(x0) ... f(xn)]\u001b[0m\u001b[0;34m\u001b[0m\u001b[0;34m\u001b[0m\u001b[0m\n\u001b[1;32m     19\u001b[0m \u001b[0my\u001b[0m \u001b[0;34m=\u001b[0m \u001b[0mf\u001b[0m\u001b[0;34m(\u001b[0m\u001b[0mx\u001b[0m\u001b[0;34m)\u001b[0m\u001b[0;34m\u001b[0m\u001b[0m\n",
      "\u001b[0;31mNameError\u001b[0m: name 'sineWave' is not defined"
     ]
    },
    {
     "data": {
      "image/png": "[encoded data removed]",
      "text/plain": [
       "<matplotlib.figure.Figure at 0x1279aba58>"
      ]
     },
     "metadata": {},
     "output_type": "display_data"
    }
   ],
   "source": [
    "## Plots the sine (left) and Runge (right) functions, together with their P0 interpolation\n",
    "## we use the fact that plt.plot(x,y) plots lines between the points (x[k],y[k])\n",
    "\n",
    "n=10\n",
    "\n",
    "fig = plt.figure(figsize = (15,5))\n",
    "# equispaced points x=[x0, x1, ... xn]\n",
    "x = np.linspace(-1,1,n+1) \n",
    "# create the vector [x0, x1, x1, x2, x2, ... , x{n-1}, xn] (to plot piecwise constant functions)\n",
    "x2 = np.zeros(2*n)\n",
    "x2[0:-1:2] = x[0:-1]\n",
    "x2[1::2] = x[1:]\n",
    "# points to plot the functions\n",
    "X = np.linspace(-1,1,100)\n",
    "\n",
    "plt.subplot(1,2,1)\n",
    "f = sineWave\n",
    "# y = [f(x0) ... f(xn)]\n",
    "y = f(x) \n",
    "# create the vector [f(x0), f(x0), f(x1), f(x1), ... , f(x{n-1}), f(x{n-1})]\n",
    "y2 = np.zeros(2*n)\n",
    "y2[0:-1:2] = y[0:-1]\n",
    "y2[1::2] = y[0:-1]\n",
    "#plot the function\n",
    "plt.plot(X,f(X),label='function')\n",
    "#plot the P0 interpolation\n",
    "plt.plot(x[:-1],y[:-1],marker='o',linestyle='',label = 'data set')\n",
    "plt.plot(x2,y2,'--',label='P0 interpolate')\n",
    "plt.title('Sine function',fontsize=15)\n",
    "plt.legend(fontsize=15)\n",
    "\n",
    "plt.subplot(1,2,2)\n",
    "f = Runge\n",
    "# y = [f(x0) ... f(xn)]\n",
    "y = f(x)\n",
    "# create the vector [f(x0), f(x0), f(x1), f(x1), x2, ... , f(x{n-1}), f(x{n-1})]\n",
    "y2 = np.zeros(2*n)\n",
    "y2[0:-1:2] = y[0:-1]\n",
    "y2[1::2] = y[0:-1]\n",
    "#plot the function\n",
    "plt.plot(X,f(X),label='function')\n",
    "#plot the P0 interpolation\n",
    "plt.plot(x[:-1],y[:-1],marker='o',linestyle='',label = 'data set')\n",
    "plt.plot(x2,y2,'--',label='P0 interpolate')\n",
    "plt.title('Runge function',fontsize=15)\n",
    "plt.legend(fontsize=15)\n",
    "\n",
    "plt.show()\n"
   ]
  }
 ],
 "metadata": {
  "kernelspec": {
   "display_name": "Python 3",
   "language": "python",
   "name": "python3"
  },
  "language_info": {
   "codemirror_mode": {
    "name": "ipython",
    "version": 3
   },
   "file_extension": ".py",
   "mimetype": "text/x-python",
   "name": "python",
   "nbconvert_exporter": "python",
   "pygments_lexer": "ipython3",
   "version": "3.6.0"
  }
 },
 "nbformat": 4,
 "nbformat_minor": 2
}
