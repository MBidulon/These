{
 "cells": [
  {
   "cell_type": "code",
   "execution_count": 3,
   "metadata": {
    "collapsed": true
   },
   "outputs": [],
   "source": [
    "## loading python libraries\n",
    "\n",
    "# necessary to display plots inline:\n",
    "%matplotlib inline   \n",
    "\n",
    "# load the libraries\n",
    "import matplotlib.pyplot as plt # 2D plotting library\n",
    "import numpy as np              # package for scientific computing  \n",
    "\n",
    "from math import *              # package for mathematics (pi, arctan, sqrt, factorial ...)"
   ]
  },
  {
   "cell_type": "code",
   "execution_count": 5,
   "metadata": {
    "collapsed": false
   },
   "outputs": [
    {
     "data": {
      "image/png": "[encoded data removed]",
      "text/plain": [
       "<matplotlib.figure.Figure at 0x110701fd0>"
      ]
     },
     "metadata": {},
     "output_type": "display_data"
    }
   ],
   "source": [
    "x=np.linspace(0,2,50)\n",
    "y=np.ones(x.size)\n",
    "\n",
    "DeltaL=0.3\n",
    "\n",
    "fig = plt.figure(figsize = (15,5))\n",
    "\n",
    "plt.plot(x,0*y, color='blue')\n",
    "plt.plot(x,1*y, color='blue')\n",
    "plt.plot(0*y,x/2, color='blue')\n",
    "plt.plot(2*y,x/2, color='blue')\n",
    "plt.plot(2/3*y,3*DeltaL/2*x, '.',color='green')\n",
    "\n",
    "plt.plot(x,0*y,'--', color='red')\n",
    "plt.plot(x,DeltaL*y,'--', color='red')\n",
    "plt.plot(x,2*DeltaL*y,'--', color='red')\n",
    "plt.plot(x/3,3*DeltaL*y,'--', color='red')\n",
    "\n",
    "plt.annotate(r'$\\Delta_L$', xy=(5/4,2*DeltaL), xytext=(5/4, 0.85*DeltaL), fontsize=16,arrowprops={'facecolor':'black', 'shrink':1} )\n",
    "plt.annotate(r'$\\Delta_L$', xy=(7/4,DeltaL), xytext=(7/4, -0.05), fontsize=16,arrowprops={'facecolor':'black', 'shrink':0.05} )\n",
    "plt.annotate(r'$\\Delta_L$', xy=(1/4,3*DeltaL), xytext=(1/4, 0.90*2*DeltaL), fontsize=16,arrowprops={'facecolor':'black', 'shrink':0.05} )\n",
    "\n",
    "\n",
    "plt.annotate(r'$\\tilde{s}$',xy=(2/3,3*DeltaL),xytext=(2/3,1.1), fontsize=16,arrowprops=dict(arrowstyle=\"->\", connectionstyle=\"arc3,rad=.2\"))\n",
    "             \n",
    "plt.axis('off')\n",
    "\n",
    "plt.show()"
   ]
  },
  {
   "cell_type": "code",
   "execution_count": 14,
   "metadata": {
    "collapsed": false
   },
   "outputs": [
    {
     "data": {
      "image/png": "[encoded data removed]",
      "text/plain": [
       "<matplotlib.figure.Figure at 0x1113f8080>"
      ]
     },
     "metadata": {},
     "output_type": "display_data"
    }
   ],
   "source": [
    "x=np.linspace(0,2,50)\n",
    "y=np.ones(x.size)\n",
    "\n",
    "DeltaL1=0.2\n",
    "DeltaL2=0.3\n",
    "DeltaL3=0.5\n",
    "DeltaL4=0.6\n",
    "DeltaL5=0.9\n",
    "\n",
    "\n",
    "fig = plt.figure(figsize = (15,5))\n",
    "\n",
    "plt.plot(x,0*y, color='blue')\n",
    "plt.plot(x,1*y, color='blue')\n",
    "plt.plot(0*y,x/2, color='blue')\n",
    "plt.plot(2*y,x/2, color='blue')\n",
    "\n",
    "plt.plot(x,DeltaL1*y,'--', color='red')\n",
    "plt.plot(x,DeltaL2*y,'--', color='red')\n",
    "plt.plot(x,DeltaL3*y,'--', color='red')\n",
    "plt.plot(x,DeltaL4*y,'--', color='red')\n",
    "plt.plot(x,DeltaL5*y,'--', color='red')\n",
    "\n",
    "plt.annotate(r'$\\DeltaL_1$', xy=(1/4,DeltaL1), xytext=(5/4, -0.05), fontsize=16,arrowprops={'facecolor':'black', 'shrink':1} )\n",
    "plt.annotate(r'$\\DeltaL_2$', xy=(2.5/4,DeltaL1), xytext=(5/4, -0.05), fontsize=16,arrowprops={'facecolor':'black', 'shrink':1} )\n",
    "plt.annotate(r'$\\DeltaL_3$', xy=(4/4,DeltaL2), xytext=(5/4, -0.05), fontsize=16,arrowprops={'facecolor':'black', 'shrink':1} )\n",
    "plt.annotate(r'$\\DeltaL_4$', xy=(5.5/4,DeltaL3), xytext=(7/4, -0.05), fontsize=16,arrowprops={'facecolor':'black', 'shrink':0.05} )\n",
    "plt.annotate(r'$\\DeltaL_5$', xy=(7/4,DeltaL4), xytext=(1/4, 0.90*2*DeltaL), fontsize=16,arrowprops={'facecolor':'black', 'shrink':0.05} )\n",
    "             \n",
    "plt.axis('off')\n",
    "\n",
    "plt.show()"
   ]
  }
 ],
 "metadata": {
  "kernelspec": {
   "display_name": "Python 3",
   "language": "python",
   "name": "python3"
  },
  "language_info": {
   "codemirror_mode": {
    "name": "ipython",
    "version": 3
   },
   "file_extension": ".py",
   "mimetype": "text/x-python",
   "name": "python",
   "nbconvert_exporter": "python",
   "pygments_lexer": "ipython3",
   "version": "3.6.0"
  }
 },
 "nbformat": 4,
 "nbformat_minor": 2
}
